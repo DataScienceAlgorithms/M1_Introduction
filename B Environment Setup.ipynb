{
 "cells": [
  {
   "cell_type": "markdown",
   "metadata": {},
   "source": [
    "# [CPSC 322]() Data Science Algorithms\n",
    "[Gonzaga University](https://www.gonzaga.edu/) |\n",
    "[Sophina Luitel](https://www.gonzaga.edu/school-of-engineering-applied-science/faculty/detail/sophina-luitel-phd-0dba6a9d)\n",
    "\n",
    "---\n",
    "# Environment Setup \n",
    "\n",
    "What are our learning objectives for this lession? \n",
    "- Download and install Git \n",
    "- Download and install Docker Destop\n",
    "- Set up a Docker container running Anaconda3 Python distribution,\n",
    "\n",
    "    \n",
    "Content used in this lesson is based upon information in the following sources:\n",
    "* Adapted from Dr. Gina Sprint's Data Science Algorithm Course, Fall 2024"
   ]
  },
  {
   "cell_type": "markdown",
   "metadata": {},
   "source": [
    "## Download/Install Git\n",
    "* For Windows users: visit the [Git downloads page for Windows](https://git-scm.com/download/windows) and install Git for your PC\n",
    "* For Mac users: first try opening your terminal program (command key + spacebar, then type terminal to open the terminal program) and typing `git` and pressing enter. If Git is not installed, you will prompted to install the Xcode developer tools. Install these to install Git. For alternatives to install Git for Mac, visit the [Git downloads page for Mac](https://git-scm.com/download/mac)\n",
    "* For Linux users: visit the [Git downloads page for Linux](https://code.visualstudio.com/download) and install Git for your PC"
   ]
  },
  {
   "cell_type": "markdown",
   "metadata": {},
   "source": [
    "## Ways to Run Python Code\n",
    "You can install Python directly on your computer. For data science, the Anaconda distribution is highly recommended because it includes many popular libraries (e.g., NumPy, pandas, matplotlib) and tools like Jupyter Notebook.\n",
    "1. Install Python Locally\n",
    "    * Visit the [Anaconda downloads page](https://www.anaconda.com/products/individual).\n",
    "    * Select the graphical installer for Python 3.12 compatible with your operating system.\n",
    "    * After installation, consider setting up a virtual environment to manage dependencies for individual projects.\n",
    "1. Use Docker (Recommended for This Class)\n",
    "    * Install Docker Desktop and pull an Anaconda-based Docker image. This lets you run your Python environment in a container, ensuring everyone uses the same reproducible setup.\n",
    "    * Docker containers include everything needed to run the code (e.g., Python, libraries, system tools).\n",
    "    * This ensures consistent environments across all students—for development and grading.\n",
    "    * Bonus: you'll gain valuable experience with Docker, a standard industry tool.\n",
    "1. Use a Cloud-Based Python Environment\n",
    "If you prefer not to install anything locally, you can run Python directly in your browser using cloud services:\n",
    "    1. https://colab.research.google.com/#scrollTo=UdRyKR44dcNI (great for ML and data science)\n",
    "    1. https://repl.it/\n",
    "    1. https://www.pythonanywhere.com/\n",
    "    1. https://trinket.io/python\n"
   ]
  },
  {
   "cell_type": "markdown",
   "metadata": {},
   "source": [
    "## Download/Install Docker Desktop\n",
    "Visit the [Docker Desktop downloads page](https://www.docker.com/products/docker-desktop) and download Docker Desktop for your operating system. Once the download is complete, run the installer. \n",
    "\n",
    "On a Windows machine, at the \"Configuration\" screen, make sure both check boxes are selected, as follows:\n",
    "\n",
    "<img src=\"https://i1.wp.com/www.codingnagger.com/wp-content/uploads/2020/06/image-3.png?resize=754%2C522&ssl=1\" width=\"500\">\n",
    "\n",
    "Image from: [codingnagger.com](https://www.codingnagger.com/2020/06/20/install-docker-desktop-on-windows-10/)\n",
    "\n",
    "Test that your Docker installation is complete and correct by opening Docker Desktop. You can do this by searching your computer for \"Docker Desktop\" (on a Windows machine press the windows key and start typing, on a Mac its command key + space and start typing).\n",
    "\n",
    "If you are on Windows and you are prompted to install WSL 2, follow the [https://aka.ms/wsl2kernel](https://docs.microsoft.com/en-us/windows/wsl/install-win10#step-4---download-the-linux-kernel-update-package) link and download/run the MSI file:\n",
    "\n",
    "<img src=\"figures/wsl2.png\" width=\"500\"/>\n",
    "\n",
    "Image from:<a href=\"https://www.codingnagger.com/2020/06/20/install-docker-desktop-on-windows-10/\">codingnagger.com</a>\n",
    "\n",
    "Then reboot your Windows machine.\n",
    "\n",
    "Note: You may want to make desktop a shortcut for Docker Desktop"
   ]
  },
  {
   "cell_type": "markdown",
   "metadata": {},
   "source": [
    "### What is Docker? \n",
    "From https://www.docker.com/why-docker:\n",
    "> In 2013, Docker introduced what would become the industry standard for containers. Containers are a standardized unit of software that allows developers to isolate their app from its environment, solving the “it works on my machine” headache. For millions of developers today, Docker is the de facto standard to build and share containerized apps - from desktop, to the cloud. We are building on our unique connected experience from code to cloud for developers and developer teams.\n",
    "\n",
    "![](https://miro.medium.com/max/2520/1*p8k1b2DZTQEW_yf0hYniXw.png)\n",
    "\n",
    "(image from https://miro.medium.com/max/2520/1*p8k1b2DZTQEW_yf0hYniXw.png)\n",
    "\n",
    "From https://en.wikipedia.org/wiki/Docker_(software):\n",
    ">Docker is a set of platform as a service (PaaS) products that use OS-level virtualization to deliver software in packages called containers.[6] Containers are isolated from one another and bundle their own software, libraries and configuration files; they can communicate with each other through well-defined channels.[7] All containers are run by a single operating system kernel and therefore use fewer resources than virtual machines.[8] The service has both free and premium tiers. The software that hosts the containers is called Docker Engine.[8] It was first started in 2013 and is developed by Docker, Inc.[9]\n",
    "\n",
    "Here is a diagram comparing containers to VMs:\n",
    "\n",
    "![](https://miro.medium.com/max/2048/0*ujI404Gnomn1Wz5h.png)\n",
    "\n",
    "(image from https://miro.medium.com/max/2048/0*ujI404Gnomn1Wz5h.png)\n",
    "\n",
    "So why are we using Docker in this class? Here are a few reasons!\n",
    "1. Docker skills are in high demand right now. According to [hackerearth's list of top 9 hottest tech skills to hire for in 2020](https://www.hackerearth.com/blog/talent-assessment/hottest-tech-skills-to-hire/), Docker is number 6 on the list (while Python is number 2!). Here is [blog post](https://dev.to/javinpaul/11-essential-skills-software-developers-should-learn-in-2020-1bio) that lists Docker as the number one essential skill software developers should learn in 2020. For fun, do your own searching about Docker and how in demand it has become. Indeed shows that demand for Docker skills continues to surge, up 4,162% since 2014 and it was listed in more than 5% of all US tech jobs in 2019 (from [InfoWorld](https://www.infoworld.com/article/3583931/the-most-valuable-software-developer-skills.html))\n",
    "1. One of the most important concepts in data science is *reproducibility*, which is the notion of designing and documenting experiments that are reproducible. This means that you (and others) should be able to reproduce your results. Docker makes it easy to make your results reproducible because you can essentially save your tech stack (e.g. the exact versions of Python, its dependencies, etc.) and distribute it easily to others.\n",
    "1. In this class, we are going to test our code using *unit tests*. A unit test is a test that measures the correctness of one unit, such as a function or a class. With Docker, you can run your tests against your code locally with the *exact same* tech stack (e.g. Docker image) my automated testing setup will run. There won't be any discrepancies in the output of your code running in your Docker container versus my Docker container, so long as we are running containers from the exact same image!\n",
    "1. It is **FUN** to learn new things. In fact, a career in computer science and software development is a career in lifelong learning 🤓\n",
    "\n",
    "Basic Docker terminology you should know (adapted from Microsoft's [Docker terminology post](https://docs.microsoft.com/en-us/dotnet/architecture/microservices/container-docker-introduction/docker-terminology) and https://mindmajix.com/docker/basic-terminologies-of-docker):\n",
    "* Container image: A package with all the dependencies and information needed to create a container (these dependencies are defined in a Dockerfile). An image includes all the dependencies (such as frameworks) plus deployment and execution configuration to be used by a container runtime. Usually, an image derives from multiple base images that are layers stacked on top of each other to form the container's file system. An image is immutable once it has been created. Below are the major features of a Docker image:\n",
    "    * Portability: The Docker images can easily be pushed or moved into a Docker registry and can also be saved as tar file.\n",
    "    * Layered nature: Images are added using layers. This enables re-usability of images and disk usability is highly reduced as the parent layers are shared.\n",
    "    * Static or Compile-time nature: Though you can create a new Docker image, the contents will remain unchanged.\n",
    "* Container: An instance of a Docker image. A container represents the execution of a single application, process, or service. It consists of the contents of a Docker image, an execution environment, and a standard set of instructions. When scaling a service, you create multiple instances of a container from the same image. Or a batch job can create multiple containers from the same image, passing different parameters to each instance.\n",
    "* Tag: A mark or label you can apply to images so that different images or versions of the same image (depending on the version number or the target environment) can be identified.\n",
    "* Repository (repo): A collection of related Docker images, labeled with a tag that indicates the image version. Some repos contain multiple variants of a specific image, such as an image containing SDKs (heavier), an image containing only runtimes (lighter), etc. Those variants can be marked with tags. A single repo can contain platform variants, such as a Linux image and a Windows image.\n",
    "* Registry: A service that provides access to repositories. The default registry for most public images is [Docker Hub](https://hub.docker.com/) (owned by Docker as an organization). A registry usually contains repositories from multiple teams. Companies often have private registries to store and manage images they've created. Azure Container Registry is another example.\n",
    "\n",
    "<img src=\"figures/docker.png\" />\n",
    "\n",
    "(image from https://docs.microsoft.com/en-us/dotnet/architecture/microservices/container-docker-introduction/docker-containers-images-registries)\n",
    "\n",
    "For more about Docker terminology, check out the [Docker glossary](https://docs.docker.com/glossary/).\n",
    "\n",
    "I encourage you to complete the [Docker 101 tutorial](https://www.docker.com/101-tutorial) to increase your familiarity with the tool."
   ]
  },
  {
   "cell_type": "markdown",
   "metadata": {},
   "source": [
    "### Create Anaconda3 Container from Image\n",
    "Open the command line and make a CPSC322 directory and cd into it\n",
    "* On Mac/Linux: `docker run -it -p 8888:8888 -v \"$PWD\":/home --name anaconda3_cpsc322 continuumio/anaconda3:2024.06-1`\n",
    "* On Windows powershell: `docker run -it -p 8888:8888 -v ${PWD}:/home --name anaconda3_cpsc322 continuumio/anaconda3:2024.06-1`\n",
    "\n",
    "Notes on the flags\n",
    "* -it launches an interactive terminal for the container once it is created and running\n",
    "* -p forwards and opens a port in the form: `-p <host port number>:<container port number>`\n",
    "    * Port 8888 for jupyter use later\n",
    "* -v mounts the current working directory of your terminal as the home directory of the container\n",
    "* --name provides your own name for the container instead of the random default name assigned by docker\n",
    "\n",
    "This command starts the created container and changes your terminal prompt to that of the container. Open Docker Desktop and confirm your new container is running under \"Containers\". \n",
    "<img src=\"https://raw.githubusercontent.com/DataScienceAlgorithms/M1_Introduction/main/figures/container.png\">\n",
    "\n",
    "To view details click on the container listed.\n",
    "\n",
    "<img src=\"https://raw.githubusercontent.com/DataScienceAlgorithms/M1_Introduction/main/figures/dockerrun.png\">"
   ]
  },
  {
   "cell_type": "markdown",
   "metadata": {},
   "source": [
    "### Starting/Stopping the Container\n",
    "When you are ready to write/run Python code using the container, you need to start it first. Here are two ways to start the container:\n",
    "1. Use Docker Desktop\n",
    "    1. Click the play button for the container\n",
    "1. Use command line\n",
    "    1. Open a terminal and run `docker start -ai anaconda3_cpsc322`\n",
    "    1. Note: you can get a listing of all containers with `docker ps -a`\n",
    "\n",
    "When you are done running your container, stop the container. Here are two ways to stop the container:\n",
    "1. Use Docker Desktop\n",
    "    1. Hit the stop button \n",
    "1. Use command line\n",
    "    1. At the container prompt run `exit`\n",
    "    1. OR at your host prompt run `docker stop anaconda3_cpsc322`"
   ]
  },
  {
   "cell_type": "markdown",
   "metadata": {},
   "source": [
    "### Getting the Container CLI\n",
    "There are three ways to get the container's CLI (command line interface) AKA terminal AKA command line\n",
    "1. Use container command line\n",
    "    1. Use the one provided when you start the container from command line with `docker start -ai <container name>`\n",
    "    1. OR click \"Open in Terminal\" in Docker Desktop next to your running container\n",
    "       <img src=\"https://raw.githubusercontent.com/DataScienceAlgorithms/M1_Introduction/main/figures/open_terminal.png\" >\n",
    "1. Use VS Code\n",
    "    1. Go to View->Terminal\n",
    "1. Use Jupyter Lab\n",
    "    1. Open a new terminal with File->New->Terminal"
   ]
  },
  {
   "cell_type": "markdown",
   "metadata": {},
   "source": [
    "## Download/Install VS Code\n",
    "Visit the [VS Code downloads page](https://code.visualstudio.com/download)(https://www.anaconda.com/products/individual) and download Docker Desktop for your operating system. Once the download is complete, run the installer. \n",
    "\n",
    "Test that your VS Code installation is complete and correct by opening VS Code. You can do this by searching your computer for \"VS Code\" (on a Windows machine press the windows key and start typing, on a Mac its command key + space and start typing).\n",
    "\n",
    "With VS Code open, install the following two extensions by clicking the bottom icon on the left side bar that looks like 4 blocks and searching for:\n",
    "1. Python extension\n",
    "1. Dev Containers extension\n",
    "\n",
    "<img src=\"https://files.realpython.com/media/vscode-marketplace.25e99aec9f68.gif\" width=\"500\"/>\n",
    "\n",
    "(image from https://realpython.com/python-development-visual-studio-code/)\n",
    "\n",
    "Note: You may want to make desktop a shortcut for VS Code"
   ]
  },
  {
   "cell_type": "markdown",
   "metadata": {},
   "source": [
    "## Developing with VS Code and the Container\n",
    "Launch VS Code and connect it to running container\n",
    "1. Make sure you have installed the Remote - Containers VS Code extension. Then click the green status bar icon for \"Open a Remote Window\" in the bottom left corner of VS Code\n",
    "<img src=\"https://raw.githubusercontent.com/DataScienceAlgorithms/M1_Introduction/main/figures/open_remote_window_icon.png\">\n",
    "\n",
    "1. Click “Attach to Running Container…”\n",
    "<img src=\"https://raw.githubusercontent.com/DataScienceAlgorithms/M1_Introduction/main/figures/running_container.png\">\n",
    "1. Select the running anaconda3_cpsc322 container\n",
    "<img src=\"https://raw.githubusercontent.com/DataScienceAlgorithms/M1_Introduction/main/figures/attach_container.png\">\n",
    "1. Click “Open folder” and navigate to /home in the container.\n",
    "<img src=\"https://raw.githubusercontent.com/DataScienceAlgorithms/M1_Introduction/main/figures/open_home_container.png\">\n",
    "\n",
    "Note: if you are prompted to select a Python interpreter, choose Python 3.12.4 (this is the one from the container). You can always bring up the the select interpreter window by opening the command palette (on Windows: ctrl + shift + P; on Mac: cmd + shift + P) and typing select interpreter. \n",
    "<img src=\"https://raw.githubusercontent.com/DataScienceAlgorithms/M1_Introduction/main/figures/inter.png\">\n",
    "\n",
    "When you are done using VS Code, you should close its connection to the container with: File->Close Remote Connection"
   ]
  },
  {
   "cell_type": "markdown",
   "metadata": {},
   "source": [
    "## Executing Python Code\n",
    "Python code can be executed in *interactive* mode and in *scripting* mode. In interactive mode, Python code is entered/executed in a command prompt/console/terminal. In scripting mode, Python code in a source file (e.g. .py) file is executed as a program. \n",
    "\n",
    "We are going to perform the following steps to re-write the previous `\"Hello World!\"` program in *interactive* mode and again in *scripting* mode using VS Code and the command line.\n",
    "\n",
    "### Interactive Python\n",
    "1. Open the container CLI (command line interface) via the CLI icon in Docker Desktop. Type `python` to enter interactive Python mode. Type `print(\"Hello World!\")` and press enter. You should see \"Hello World!\" echoed back out on the console. Congrats! You just wrote and executed your first line of Python code. We just executed this code in \"interactive\" mode.\n",
    "1. Let's explore some features of interactive Python. Type the following commands into the IPython shell and observe the output:\n",
    "    1. `help(print)`: You can type the name of any identifier between the parens of the `help()` command to learn more about the Python construct.\n",
    "    1. `pwd()`: Tells you the \"present working directory\" where Python is executing\n",
    "    1. `x = 5`: Declare a variable named `x` and assign it the value 5\n",
    "    1. `type(x)`: Returns the data type of the value stored in variable `x`. What is it?\n",
    "    1. `course_name = \"AHA\"`: Declare a variable named `course_name` and assigns it the string \"AHA\"\n",
    "    1. `type(course_name)`\n",
    "    1. `course_name.<tab>`: Type the variable name `course_name` and a dot. Then press tab. IPython will provide you with all of the available information and behaviors associated with this variable. We will learn much more about this information later in the course.\n",
    "    1. `course_name.upper()`: What does `upper()` do?\n",
    "    1. `dir()`: Lists the known objects (variables) in Python. Do you see your variable names?\n",
    "    \n",
    "### Scripting Python\n",
    "1. Open VS Code using the above instructions and create a new file.\n",
    "1. Type `print(\"Hello World!\")`\n",
    "1. Navigate to the menu bar. Select File -> Save As and select a folder to save your Python code files in. Name this file hello_world.py and save it in your newly made folder.\n",
    "1. Run the program! You can do this by pressing F5 on your keyboard or selecting Run -> Start Debugging. The output of your code will be in the Terminal. Congrats! You just wrote and executed your first Python *script*.\n",
    "<img src=\"https://raw.githubusercontent.com/DataScienceAlgorithms/M1_Introduction/main/figures/helloworld.png\">"
   ]
  },
  {
   "cell_type": "code",
   "execution_count": null,
   "metadata": {},
   "outputs": [],
   "source": []
  }
 ],
 "metadata": {
  "anaconda-cloud": {},
  "kernelspec": {
   "display_name": "Python 3 (ipykernel)",
   "language": "python",
   "name": "python3"
  },
  "language_info": {
   "codemirror_mode": {
    "name": "ipython",
    "version": 3
   },
   "file_extension": ".py",
   "mimetype": "text/x-python",
   "name": "python",
   "nbconvert_exporter": "python",
   "pygments_lexer": "ipython3",
   "version": "3.13.5"
  }
 },
 "nbformat": 4,
 "nbformat_minor": 4
}
